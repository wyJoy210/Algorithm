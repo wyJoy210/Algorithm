{
 "cells": [
  {
   "cell_type": "markdown",
   "id": "confident-ethnic",
   "metadata": {},
   "source": [
    "# 01 자료형 TOC"
   ]
  },
  {
   "cell_type": "markdown",
   "id": "medical-mason",
   "metadata": {},
   "source": [
    "* [01. 수 자료형](#01)\n",
    "    * [01-1) 정수형](#01_1)\n",
    "    * [01-2) 실수형](#01_2)\n",
    "        * [양의 실수, 음의 실수, 소수부∙정수부가 0일 때 0 생략](#01_2_1)\n",
    "        * [e나 E를 이용한 지수 표현 방식](#01_2_2)\n",
    "        * [2진수 체계에서 발생하는 미세한 오차 - (1) 오차](#01_2_3)\n",
    "        * [2진수 체계에서 발생하는 미세한 오차 - (2) round() 함수 활용](#01_2_4)\n",
    "\n",
    "\n",
    "* [02. 리스트 자료형](#02)\n",
    "    * [02-1) 리스트 만들기](#02_1)\n",
    "        * [리스트 생성 후 특정 인덱스 원소에 접근 해 출력](#02_1_1)\n",
    "        * [빈 리스트 선언 방법](#02_1_2)\n",
    "        * [크기가 N이고 모든 값이 0인 \"1차원 리스트\" 초기화](#02_1_3)\n",
    "    * [02-2) 리스트의 인덱싱과 슬라이싱](#02_2)\n",
    "        * [인덱싱](#02_2_1)\n",
    "        * [슬라이싱](#02_2_2)\n",
    "    * [02-3) 리스트 컴프리헨션](#02_3)\n",
    "        * [0부터 19까지의 수 중에서 홀수만 포함하는 리스트](#02_3_1)\n",
    "        * [1부터 9까지의 제곱 값을 포함하는 리스트](#02_3_2)\n",
    "        * [NxM 크기의 2차원 리스트를 초기화](#02_3_3)\n",
    "             \n",
    "        \n",
    "* [03. 문자열 자료형](#03)\n",
    "    * [03-1) 문자열 초기화](#03_1)\n",
    "    * [03-2) 문자열 연산](#03_2)\n",
    "    \n",
    "\n",
    "* [04. 튜플 자료형](#04)\n",
    "\n",
    "\n",
    "* [05. 사전 자료형](#05)\n",
    "    * [05-1) 사전 자료형 소개](#05_1)\n",
    "    * [05-2) 사전 자료형 관련 함수](#05_2)\n",
    "\n",
    "\n",
    "* [06. 집합 자료형](#06)\n",
    "    * [06-1) 집합 자료형 소개](#06_1)\n",
    "    * [06-2) 집합 자료현의 연산](#06_2)\n",
    "    * [06-3) 집합 자료형 관련 함수](#06_3)"
   ]
  },
  {
   "cell_type": "markdown",
   "id": "rocky-annex",
   "metadata": {},
   "source": [
    "# 01. 수 자료형 <a class=\"anchor\" id=\"01\"></a>"
   ]
  },
  {
   "cell_type": "markdown",
   "id": "specific-castle",
   "metadata": {},
   "source": [
    "## 01-1) 정수형 <a class=\"anchor\" id=\"01_1\"></a>"
   ]
  },
  {
   "cell_type": "code",
   "execution_count": 2,
   "id": "scenic-corpus",
   "metadata": {},
   "outputs": [
    {
     "name": "stdout",
     "output_type": "stream",
     "text": [
      "1000\n",
      "-7\n",
      "0\n"
     ]
    }
   ],
   "source": [
    "a = 1000 # 양의 정수\n",
    "print(a)\n",
    "\n",
    "b = -7 # 음의 정수\n",
    "print(b)\n",
    "\n",
    "c = 0 # 0\n",
    "print(c)"
   ]
  },
  {
   "cell_type": "markdown",
   "id": "reported-spring",
   "metadata": {},
   "source": [
    "## 01-2) 실수형 <a class=\"anchor\" id=\"01_2\"></a>"
   ]
  },
  {
   "cell_type": "markdown",
   "id": "royal-sullivan",
   "metadata": {},
   "source": [
    "### 양의 실수, 음의 실수, 소수부∙정수부가 0일 때 0 생략 <a class=\"anchor\" id=\"01_2_1\"></a>"
   ]
  },
  {
   "cell_type": "code",
   "execution_count": 3,
   "id": "acting-diagram",
   "metadata": {},
   "outputs": [
    {
     "name": "stdout",
     "output_type": "stream",
     "text": [
      "157.93\n",
      "-1837.2\n",
      "5.0\n",
      "-0.7\n"
     ]
    }
   ],
   "source": [
    "# 양의 실수\n",
    "a = 157.93\n",
    "print(a)\n",
    "\n",
    "# 음의 실수\n",
    "b = -1837.2\n",
    "print(b)\n",
    "\n",
    "# 소수부가 0일 때 0을 생략\n",
    "c = 5.\n",
    "print(c)\n",
    "\n",
    "# 정수부가 0일 때 0을 생략\n",
    "d = -.7\n",
    "print(d)"
   ]
  },
  {
   "cell_type": "markdown",
   "id": "computational-bernard",
   "metadata": {},
   "source": [
    "### e나 E를 이용한 지수 표현 방식 <a class=\"anchor\" id=\"01_2_2\"></a>"
   ]
  },
  {
   "cell_type": "markdown",
   "id": "binding-morgan",
   "metadata": {},
   "source": [
    "해당 지수 표현 방식은 코딩 테스트에 많이 사용됨. 예를 들어 최단 경로 문제에서는 도달할 수 없는 노드에 대하여 최단 거리를 '무한(1NF)'으로 설정할 때 1e9로 대개 표현함."
   ]
  },
  {
   "cell_type": "code",
   "execution_count": 4,
   "id": "italian-sharp",
   "metadata": {},
   "outputs": [
    {
     "name": "stdout",
     "output_type": "stream",
     "text": [
      "1000000000.0\n",
      "752.5\n",
      "3.954\n"
     ]
    }
   ],
   "source": [
    "# 10억의 지수 표현 방식\n",
    "a = 1e9\n",
    "print(a)\n",
    "\n",
    "# 752.5\n",
    "b = 75.25e1\n",
    "print(b)\n",
    "\n",
    "# 3.954\n",
    "c = 3954e-3\n",
    "print(c)"
   ]
  },
  {
   "cell_type": "markdown",
   "id": "respiratory-kazakhstan",
   "metadata": {},
   "source": [
    "### 2진수 체계에서 발생하는 미세한 오차 - (1) 오차 <a class=\"anchor\" id=\"01_2_3\"></a>"
   ]
  },
  {
   "cell_type": "markdown",
   "id": "biological-family",
   "metadata": {},
   "source": [
    "10진수 체계에서는 0.3과 0.6을 더한 값이 0.9로 정확히 떨어지지만, 2진수에서는 0.9를 정확히 표현할 수 있는 방법이 없음. 최대한 0.9와 가깝게 표현하지만 정확히 0.9가 아닌 미세한 오차가 발생."
   ]
  },
  {
   "cell_type": "code",
   "execution_count": 5,
   "id": "listed-penalty",
   "metadata": {},
   "outputs": [
    {
     "name": "stdout",
     "output_type": "stream",
     "text": [
      "0.8999999999999999\n",
      "False\n"
     ]
    }
   ],
   "source": [
    "a = 0.3 + 0.6\n",
    "print(a)\n",
    "\n",
    "if a == 0.9:\n",
    "    print(True)\n",
    "else:\n",
    "    print(False)"
   ]
  },
  {
   "cell_type": "markdown",
   "id": "forbidden-stone",
   "metadata": {},
   "source": [
    "### 2진수 체계에서 발생하는 미세한 오차 - (2) round() 함수 활용 <a class=\"anchor\" id=\"01_2_4\"></a>"
   ]
  },
  {
   "cell_type": "markdown",
   "id": "textile-stevens",
   "metadata": {},
   "source": [
    "소수점 값을 비교하는 작업에 round()함수를 이용할 수 있다."
   ]
  },
  {
   "cell_type": "markdown",
   "id": "color-pharmacy",
   "metadata": {},
   "source": [
    "- 첫 번째 인자 : 실수형 데이터\n",
    "- 두 번째 인자 : 반올림하고자 하는 위치 - 1"
   ]
  },
  {
   "cell_type": "code",
   "execution_count": 7,
   "id": "standard-messaging",
   "metadata": {},
   "outputs": [
    {
     "name": "stdout",
     "output_type": "stream",
     "text": [
      "0.9\n",
      "True\n"
     ]
    }
   ],
   "source": [
    "a = 0.3 + 0.6\n",
    "print(round(a, 4))\n",
    "\n",
    "if round(a, 4) == 0.9:\n",
    "    print(True)\n",
    "else:\n",
    "    print(False)"
   ]
  },
  {
   "cell_type": "markdown",
   "id": "greatest-porcelain",
   "metadata": {},
   "source": [
    "## 01-3) 수 자료형의 연산 <a class=\"anchor\" id=\"01_3\"></a>"
   ]
  },
  {
   "cell_type": "code",
   "execution_count": 8,
   "id": "sophisticated-robert",
   "metadata": {},
   "outputs": [
    {
     "name": "stdout",
     "output_type": "stream",
     "text": [
      "2.3333333333333335\n",
      "1\n",
      "2\n",
      "343\n"
     ]
    }
   ],
   "source": [
    "a = 7\n",
    "b = 3\n",
    "\n",
    "# 나누기\n",
    "print(a/b)\n",
    "\n",
    "# 나머지\n",
    "print(a%b)\n",
    "\n",
    "# 몫\n",
    "print(a//b)\n",
    "\n",
    "#거듭제곱\n",
    "print(a**b)"
   ]
  },
  {
   "cell_type": "markdown",
   "id": "fatty-hardwood",
   "metadata": {},
   "source": [
    "<br/><hr/><br/>"
   ]
  },
  {
   "cell_type": "markdown",
   "id": "breathing-violin",
   "metadata": {},
   "source": [
    "# 02. 리스트 자료형 <a class=\"anchor\" id=\"02\"></a>"
   ]
  },
  {
   "cell_type": "markdown",
   "id": "indian-removal",
   "metadata": {},
   "source": [
    "## 02-1) 리스트 만들기 <a class=\"anchor\" id=\"02_1\"></a>"
   ]
  },
  {
   "cell_type": "markdown",
   "id": "stainless-homeless",
   "metadata": {},
   "source": [
    "### 1부터 9까지의 모든 정수 데이터를 담는 리스트를 만든 후 특정 인덱스 원소에 접근 해 출력 <a class=\"anchor\" id=\"02_1_1\"></a>"
   ]
  },
  {
   "cell_type": "code",
   "execution_count": 9,
   "id": "former-reproduction",
   "metadata": {},
   "outputs": [
    {
     "name": "stdout",
     "output_type": "stream",
     "text": [
      "[1, 2, 3, 4, 5, 6, 7, 8, 99]\n",
      "5\n"
     ]
    }
   ],
   "source": [
    "a = [1, 2, 3, 4, 5, 6, 7, 8, 9]\n",
    "print(a)\n",
    "\n",
    "print(a[4])"
   ]
  },
  {
   "cell_type": "markdown",
   "id": "canadian-fiction",
   "metadata": {},
   "source": [
    "### 빈 리스트 선언 방법 <a class=\"anchor\" id=\"02_1_2\"></a>"
   ]
  },
  {
   "cell_type": "code",
   "execution_count": 10,
   "id": "strong-recall",
   "metadata": {},
   "outputs": [
    {
     "name": "stdout",
     "output_type": "stream",
     "text": [
      "[]\n",
      "[]\n"
     ]
    }
   ],
   "source": [
    "# 빈 리스트 선언 방법 1)\n",
    "a = list()\n",
    "print(a)\n",
    "\n",
    "# 빈 리스트 선언 방법 2)\n",
    "b = []\n",
    "print(b)"
   ]
  },
  {
   "cell_type": "markdown",
   "id": "behavioral-empire",
   "metadata": {},
   "source": [
    "### 크기가 N이고 모든 값이 0인 \"1차원 리스트\" 초기화 <a class=\"anchor\" id=\"02_1_3\"></a>"
   ]
  },
  {
   "cell_type": "code",
   "execution_count": 11,
   "id": "internal-polymer",
   "metadata": {},
   "outputs": [
    {
     "name": "stdout",
     "output_type": "stream",
     "text": [
      "[0, 0, 0, 0, 0, 0, 0, 0, 0, 0]\n"
     ]
    }
   ],
   "source": [
    "n = 10\n",
    "a = [0] * n\n",
    "print(a)"
   ]
  },
  {
   "cell_type": "markdown",
   "id": "mobile-montana",
   "metadata": {},
   "source": [
    "## 02-2) 리스트의 인덱싱과 슬라이싱 <a class=\"anchor\" id=\"02_2\"></a>"
   ]
  },
  {
   "cell_type": "markdown",
   "id": "golden-honor",
   "metadata": {},
   "source": [
    "### 인덱싱 <a class=\"anchor\" id=\"02_2_1\"></a>"
   ]
  },
  {
   "cell_type": "code",
   "execution_count": 26,
   "id": "naked-panama",
   "metadata": {},
   "outputs": [
    {
     "name": "stdout",
     "output_type": "stream",
     "text": [
      "9\n",
      "7\n",
      "[1, 2, 3, 7, 5, 6, 7, 8, 9]\n"
     ]
    }
   ],
   "source": [
    "a = [1, 2, 3, 4, 5, 6, 7, 8, 9]\n",
    "\n",
    "# 뒤에서 첫 번째 원소 출력\n",
    "print(a[-1])\n",
    "\n",
    "# 뒤에서 세 번째 원소 출력\n",
    "print(a[-3])\n",
    "\n",
    "# 네 번째 원소 값 변경\n",
    "a[3] = 7\n",
    "print(a)"
   ]
  },
  {
   "cell_type": "markdown",
   "id": "floral-royalty",
   "metadata": {},
   "source": [
    "### 슬라이싱 <a class=\"anchor\" id=\"02_2_2\"></a>"
   ]
  },
  {
   "cell_type": "code",
   "execution_count": 13,
   "id": "dietary-graduate",
   "metadata": {},
   "outputs": [
    {
     "name": "stdout",
     "output_type": "stream",
     "text": [
      "[2, 3, 4]\n"
     ]
    }
   ],
   "source": [
    "a = [1, 2, 3, 4, 5, 6, 7, 8, 9]\n",
    "\n",
    "# 두 번째 원소부터 네 번째 원소까지\n",
    "print(a[1:4])"
   ]
  },
  {
   "cell_type": "markdown",
   "id": "shaped-missile",
   "metadata": {},
   "source": [
    "## 02-3) 리스트 컴프리헨션 <a class=\"anchor\" id=\"02_3\"></a>"
   ]
  },
  {
   "cell_type": "markdown",
   "id": "limiting-turkey",
   "metadata": {},
   "source": [
    "리스트를 초기화하는 방법 중 하나. 리스트 컴프레션을 이용하면 **대괄호[] 안에 조건문과 반복문을 넣는 방식**으로 리스트를 초기화 할 수 있다."
   ]
  },
  {
   "cell_type": "markdown",
   "id": "exterior-column",
   "metadata": {},
   "source": [
    "### 0부터 19까지의 수 중에서 홀수만 포함하는 리스트 <a class=\"anchor\" id=\"02_3_1\"></a>"
   ]
  },
  {
   "cell_type": "code",
   "execution_count": 27,
   "id": "opening-liver",
   "metadata": {},
   "outputs": [
    {
     "name": "stdout",
     "output_type": "stream",
     "text": [
      "[1, 3, 5, 7, 9, 11, 13, 15, 17, 19]\n"
     ]
    }
   ],
   "source": [
    "array = [i for i in range (20) if i % 2 == 1]\n",
    "print(array)"
   ]
  },
  {
   "cell_type": "markdown",
   "id": "tutorial-garbage",
   "metadata": {},
   "source": [
    "### 1부터 9까지의 제곱 값을 포함하는 리스트 <a class=\"anchor\" id=\"02_3_2\"></a>"
   ]
  },
  {
   "cell_type": "code",
   "execution_count": 28,
   "id": "unique-doubt",
   "metadata": {},
   "outputs": [
    {
     "name": "stdout",
     "output_type": "stream",
     "text": [
      "[1, 4, 9, 16, 25, 36, 49, 64, 81]\n"
     ]
    }
   ],
   "source": [
    "array = [i * i for i in range(1, 10)]\n",
    "print(array)"
   ]
  },
  {
   "cell_type": "markdown",
   "id": "executive-offer",
   "metadata": {},
   "source": [
    "### NxM 크기의 2차원 리스트를 초기화 <a class=\"anchor\" id=\"02_3_3\"></a>"
   ]
  },
  {
   "cell_type": "code",
   "execution_count": 16,
   "id": "metropolitan-awareness",
   "metadata": {},
   "outputs": [
    {
     "name": "stdout",
     "output_type": "stream",
     "text": [
      "[[0, 0, 0, 0], [0, 0, 0, 0], [0, 0, 0, 0]]\n"
     ]
    }
   ],
   "source": [
    "n = 3\n",
    "m = 4\n",
    "array = [[0] * m for _ in range(n)]\n",
    "print(array)"
   ]
  },
  {
   "cell_type": "markdown",
   "id": "romance-complex",
   "metadata": {},
   "source": [
    "## 02-4) 리스트 관련 기타 메서드"
   ]
  },
  {
   "cell_type": "markdown",
   "id": "facial-kernel",
   "metadata": {},
   "source": [
    "시간 복잡도를 눈여겨 보자. insert()와 remove() 함수를 남발하다가 '시간 초과' 될 수도 있다."
   ]
  },
  {
   "cell_type": "code",
   "execution_count": 17,
   "id": "ordered-package",
   "metadata": {},
   "outputs": [
    {
     "name": "stdout",
     "output_type": "stream",
     "text": [
      "기본 리스트:  [1, 4, 3]\n",
      "삽입:  [1, 4, 3, 2]\n",
      "오름차순 정렬:  [1, 2, 3, 4]\n",
      "내림차순 정렬:  [4, 3, 2, 1]\n",
      "원소 뒤집기:  [1, 2, 3, 4]\n",
      "인덱스 2에 3 추가:  [1, 2, 3, 3, 4]\n",
      "값이 3인 데이터 개수:  2\n",
      "값이 1인 데이터 삭제:  [2, 3, 3, 4]\n"
     ]
    }
   ],
   "source": [
    "a = [1, 4, 3]\n",
    "print(\"기본 리스트: \", a)\n",
    "\n",
    "# 리스트에 원소 삽입 - 시간 복잡도 O(1)\n",
    "a.append(2)\n",
    "print(\"삽입: \", a)\n",
    "\n",
    "# 오름차순 정렬 - 시간 복잡도 O(NlogN)\n",
    "a.sort()\n",
    "print(\"오름차순 정렬: \", a)\n",
    "\n",
    "# 내림차순 정렬 - 시간 복잡도 O(NlogN)\n",
    "a.sort(reverse = True)\n",
    "print(\"내림차순 정렬: \", a)\n",
    "\n",
    "# 리스트 원소 뒤집기 - 시간 복잡도 O(N)\n",
    "a.reverse()\n",
    "print(\"원소 뒤집기: \", a)\n",
    "\n",
    "# 특정 인덱스에 데이터 추가 - 시간 복잡도 O(N)\n",
    "a.insert(2, 3)\n",
    "print(\"인덱스 2에 3 추가: \", a)\n",
    "\n",
    "# 특정 값인 데이터 개수 세기 - 시간 복잡도 O(N)\n",
    "print(\"값이 3인 데이터 개수: \", a.count(3))\n",
    "\n",
    "# 특정 값 데이터 삭제 - 시간 복잡도 O(N)\n",
    "a.remove(1)\n",
    "print(\"값이 1인 데이터 삭제: \", a)"
   ]
  },
  {
   "cell_type": "markdown",
   "id": "fifth-silicon",
   "metadata": {},
   "source": [
    "### 리스트 원소 삭제하는 효율적인 방법"
   ]
  },
  {
   "cell_type": "code",
   "execution_count": 18,
   "id": "czech-heart",
   "metadata": {},
   "outputs": [
    {
     "name": "stdout",
     "output_type": "stream",
     "text": [
      "[1, 2, 4]\n"
     ]
    }
   ],
   "source": [
    "a = [1, 2, 3, 4, 5, 5, 5]\n",
    "remove_set = {3, 5}\n",
    "\n",
    "# remove_set에 포함되지 않은 값만을 저장\n",
    "result = [i for i in a if i not in remove_set]\n",
    "print(result)"
   ]
  },
  {
   "cell_type": "markdown",
   "id": "graphic-virus",
   "metadata": {},
   "source": [
    "<br/><hr/><br/>"
   ]
  },
  {
   "cell_type": "markdown",
   "id": "exposed-sodium",
   "metadata": {},
   "source": [
    "# 03. 문자열 자료형 <a class=\"anchor\" id=\"03\"></a>"
   ]
  },
  {
   "cell_type": "markdown",
   "id": "funny-optics",
   "metadata": {},
   "source": [
    "## 03-1) 문자열 초기화 <a class=\"anchor\" id=\"03_1\"></a>"
   ]
  },
  {
   "cell_type": "code",
   "execution_count": 29,
   "id": "reasonable-childhood",
   "metadata": {},
   "outputs": [
    {
     "name": "stdout",
     "output_type": "stream",
     "text": [
      "Hello World\n",
      "Don't you know \"Python\"?\n"
     ]
    }
   ],
   "source": [
    "data = 'Hello World'\n",
    "print(data)\n",
    "\n",
    "data = \"Don't you know \\\"Python\\\"?\"\n",
    "print(data)"
   ]
  },
  {
   "cell_type": "markdown",
   "id": "random-collins",
   "metadata": {},
   "source": [
    "## 03-2) 문자열 연산 <a class=\"anchor\" id=\"03_2\"></a>"
   ]
  },
  {
   "cell_type": "code",
   "execution_count": 20,
   "id": "geological-rover",
   "metadata": {},
   "outputs": [
    {
     "name": "stdout",
     "output_type": "stream",
     "text": [
      "Hello World\n"
     ]
    }
   ],
   "source": [
    "a = \"Hello\"\n",
    "b = \"World\"\n",
    "\n",
    "print(a + \" \" + b)"
   ]
  },
  {
   "cell_type": "code",
   "execution_count": 21,
   "id": "dimensional-bride",
   "metadata": {},
   "outputs": [
    {
     "name": "stdout",
     "output_type": "stream",
     "text": [
      "StringStringString\n"
     ]
    }
   ],
   "source": [
    "a = \"String\"\n",
    "\n",
    "print(a * 3)"
   ]
  },
  {
   "cell_type": "code",
   "execution_count": 22,
   "id": "seeing-smell",
   "metadata": {},
   "outputs": [
    {
     "name": "stdout",
     "output_type": "stream",
     "text": [
      "CD\n"
     ]
    }
   ],
   "source": [
    "a = \"ABCDEF\"\n",
    "\n",
    "print(a[2:4])"
   ]
  },
  {
   "cell_type": "markdown",
   "id": "communist-manner",
   "metadata": {},
   "source": [
    "<br/><hr/><br/>"
   ]
  },
  {
   "cell_type": "markdown",
   "id": "excessive-doctor",
   "metadata": {},
   "source": [
    "# 04. 튜플 자료형 <a class=\"anchor\" id=\"04\"></a>"
   ]
  },
  {
   "cell_type": "markdown",
   "id": "addressed-north",
   "metadata": {},
   "source": [
    "튜플 자료형은 리스트와 거의 비슷하나, 다음과 같은 차이가 있다."
   ]
  },
  {
   "cell_type": "markdown",
   "id": "stuck-mexican",
   "metadata": {},
   "source": [
    "- 튜플은 한 번 선언된 값을 **변경할 수 없다.**\n",
    "- 리스트는 대괄호([])를 이용하지만, 튜플은 **소괄호(())**를 이용한다."
   ]
  },
  {
   "cell_type": "markdown",
   "id": "accredited-moldova",
   "metadata": {},
   "source": [
    "튜플 자료형은 **그래프 알고리즘**을 구현할 때 자주 사용된다. 예를 들어 다익스트라 최단 경로 알고리즘과 같은 알고리즘 내부에서는 우선 순위 큐를 이용하는데 해당 알고리즘에서 **우선순위 큐에 한 번 들어간 값은 변경되지 않으므로** 우선순위 큐에 들어가는 데이터를 튜플로 구성한다.<br/><br/>또한, 튜플은 리스트에 비해 상대적으로 **공간 효율적이고, 일반적으로 각 원소의 성질이 다를 때** 주로 사용한다. 흔히 다익스트라 최단 경로 알고리즘에서는 '비용'과 '노드번호'라는 서로 다른 성질의 데이터를 **(비용, 노드 번호)의 형태**로 함께 튜플로 붂어서 관리하는 것이 관례이다."
   ]
  },
  {
   "cell_type": "code",
   "execution_count": 23,
   "id": "intellectual-phone",
   "metadata": {},
   "outputs": [
    {
     "name": "stdout",
     "output_type": "stream",
     "text": [
      "(1, 2, 3, 4)\n"
     ]
    },
    {
     "ename": "TypeError",
     "evalue": "'tuple' object does not support item assignment",
     "output_type": "error",
     "traceback": [
      "\u001b[1;31m---------------------------------------------------------------------------\u001b[0m",
      "\u001b[1;31mTypeError\u001b[0m                                 Traceback (most recent call last)",
      "\u001b[1;32m<ipython-input-23-fa3b14a6dfc1>\u001b[0m in \u001b[0;36m<module>\u001b[1;34m\u001b[0m\n\u001b[0;32m      2\u001b[0m \u001b[0mprint\u001b[0m\u001b[1;33m(\u001b[0m\u001b[0ma\u001b[0m\u001b[1;33m)\u001b[0m\u001b[1;33m\u001b[0m\u001b[1;33m\u001b[0m\u001b[0m\n\u001b[0;32m      3\u001b[0m \u001b[1;33m\u001b[0m\u001b[0m\n\u001b[1;32m----> 4\u001b[1;33m \u001b[0ma\u001b[0m\u001b[1;33m[\u001b[0m\u001b[1;36m2\u001b[0m\u001b[1;33m]\u001b[0m \u001b[1;33m=\u001b[0m \u001b[1;36m7\u001b[0m\u001b[1;33m\u001b[0m\u001b[1;33m\u001b[0m\u001b[0m\n\u001b[0m",
      "\u001b[1;31mTypeError\u001b[0m: 'tuple' object does not support item assignment"
     ]
    }
   ],
   "source": [
    "a = (1, 2, 3, 4)\n",
    "print(a)\n",
    "\n",
    "a[2] = 7"
   ]
  },
  {
   "cell_type": "markdown",
   "id": "arabic-savannah",
   "metadata": {},
   "source": [
    "<br/><hr/><br/>"
   ]
  },
  {
   "cell_type": "markdown",
   "id": "economic-activation",
   "metadata": {},
   "source": [
    "# 05. 사전 자료형 <a class=\"anchor\" id=\"05\"></a>"
   ]
  },
  {
   "cell_type": "markdown",
   "id": "wound-reason",
   "metadata": {},
   "source": [
    "## 05-1) 사전 자료형 소개 <a class=\"anchor\" id=\"05_1\"></a>"
   ]
  },
  {
   "cell_type": "markdown",
   "id": "accepted-filing",
   "metadata": {},
   "source": [
    "|키(Key)|값(Value)|\n",
    "|---|---|\n",
    "|사과|Apple|\n",
    "|바나나|Banana|\n",
    "|코코넛|Coconut|"
   ]
  },
  {
   "cell_type": "markdown",
   "id": "blind-oxygen",
   "metadata": {},
   "source": [
    "파이썬의 사전 자료형은 내부적으로 '해시테이블'을 이용하므로 기본적으로 **데이터의 검색 및 수정에 있어서 O(1)** 의 시간에 처리할 수있다. 키-값 쌍으로 구성된 데이터를 처리함에 있어서 리스트보다 훨씬 빠르게 동작한다는 점을 기억하자."
   ]
  },
  {
   "cell_type": "code",
   "execution_count": 30,
   "id": "gross-neighbor",
   "metadata": {},
   "outputs": [
    {
     "name": "stdout",
     "output_type": "stream",
     "text": [
      "{'사과': 'Apple', '바나나': 'Banana', '코코넛': 'Coconut'}\n"
     ]
    }
   ],
   "source": [
    "data = dict()\n",
    "data['사과'] = 'Apple'\n",
    "data['바나나'] = 'Banana'\n",
    "data['코코넛'] = 'Coconut'\n",
    "\n",
    "print(data)"
   ]
  },
  {
   "cell_type": "markdown",
   "id": "perfect-retirement",
   "metadata": {},
   "source": [
    "학생의 번호가 1부터 10,000,000까지로 구성되어 있는 상황에서 최대 10,000명의 학생을 선택했다고 가정할 때, 이후에 특정한 학생 번호가 주어졌을 시 해당 학생이 선택되었는지 어떻게 빠르게 알 수 있는가?<br/>**리스트를 이용할 시 -** 1부터 1000만까지의 각 번호가 선택되었는 지를 저장할 수 있는 리스트를 만들어야 한다. 이는 메모리 공간 낭비다. 이 중에 999만 개 가량의 데이터는 쓰이지 않기 때문.<br/>**사전 자료형을 이용할 시 -** 1000만 개의 데이터를 담을 필요가 없어 만 개의 데이터만 사전 자료구조에 들어가므로 훨씬 적은 메모리 공간을 사용할 수 있다."
   ]
  },
  {
   "cell_type": "code",
   "execution_count": 32,
   "id": "aerial-pressing",
   "metadata": {},
   "outputs": [
    {
     "name": "stdout",
     "output_type": "stream",
     "text": [
      "'사과'를 키로 가지는 데이터가 존재합니다.\n"
     ]
    }
   ],
   "source": [
    "# 원소 in 사전\n",
    "data = dict()\n",
    "data['사과'] = 'Apple'\n",
    "data['바나나'] = 'Banana'\n",
    "data['코코넛'] = 'Coconut'\n",
    "\n",
    "if '사과' in data:\n",
    "    print(\"'사과'를 키로 가지는 데이터가 존재합니다.\")"
   ]
  },
  {
   "cell_type": "markdown",
   "id": "together-server",
   "metadata": {},
   "source": [
    "## 05-2) 사전 자료형 관련 함수 <a class=\"anchor\" id=\"05_2\"></a>"
   ]
  },
  {
   "cell_type": "code",
   "execution_count": 33,
   "id": "center-polish",
   "metadata": {},
   "outputs": [
    {
     "name": "stdout",
     "output_type": "stream",
     "text": [
      "dict_keys(['사과', '바나나', '코코넛'])\n",
      "dict_values(['Apple', 'Banana', 'Coconut'])\n",
      "Apple\n",
      "Banana\n",
      "Coconut\n"
     ]
    }
   ],
   "source": [
    "data = dict()\n",
    "data['사과'] = 'Apple'\n",
    "data['바나나'] = 'Banana'\n",
    "data['코코넛'] = 'Coconut'\n",
    "\n",
    "# 키 데이터만 담은 리스트\n",
    "key_list = data.keys()\n",
    "\n",
    "# 값 데이터만 담은 리스트\n",
    "value_list = data.values()\n",
    "\n",
    "print(key_list)\n",
    "print(value_list)\n",
    "\n",
    "# 각 키에 따른 값을 하나 씩 출력\n",
    "for key in key_list:\n",
    "    print(data[key])"
   ]
  },
  {
   "cell_type": "markdown",
   "id": "breeding-criticism",
   "metadata": {},
   "source": [
    "<br/><hr/><br/>"
   ]
  },
  {
   "cell_type": "markdown",
   "id": "smaller-radius",
   "metadata": {},
   "source": [
    "# 06. 집합 자료형 <a class=\"anchor\" id=\"06\"></a>"
   ]
  },
  {
   "cell_type": "markdown",
   "id": "overall-organizer",
   "metadata": {},
   "source": [
    "## 06-1) 집합 자료형 소개 <a class=\"anchor\" id=\"06_1\"></a>"
   ]
  },
  {
   "cell_type": "markdown",
   "id": "disciplinary-investigation",
   "metadata": {},
   "source": [
    "집합은 기본적으로 리스트 or 문자열을 이용해서 만들 수 있다. 다음은 집합의 특징이다."
   ]
  },
  {
   "cell_type": "markdown",
   "id": "hourly-biotechnology",
   "metadata": {},
   "source": [
    "- 중복을 허용하지 않는다.\n",
    "- 순서가 없다."
   ]
  },
  {
   "cell_type": "code",
   "execution_count": 34,
   "id": "minus-poverty",
   "metadata": {},
   "outputs": [
    {
     "name": "stdout",
     "output_type": "stream",
     "text": [
      "{1, 2, 3, 4, 5}\n",
      "{1, 2, 3, 4, 5}\n"
     ]
    }
   ],
   "source": [
    "# 집합 자료형 초기화 방법 1\n",
    "data = set([1, 1, 2, 3, 4, 4, 5])\n",
    "print(data)\n",
    "\n",
    "# 집합 자료형 초기화 방법 2\n",
    "data = {1, 1, 2, 3, 4, 4, 5}\n",
    "print(data)"
   ]
  },
  {
   "cell_type": "markdown",
   "id": "romance-bristol",
   "metadata": {},
   "source": [
    "## 06-2) 집합 자료형의 연산 <a class=\"anchor\" id=\"06_2\"></a>"
   ]
  },
  {
   "cell_type": "code",
   "execution_count": 35,
   "id": "monthly-chorus",
   "metadata": {},
   "outputs": [
    {
     "name": "stdout",
     "output_type": "stream",
     "text": [
      "{1, 2, 3, 4, 5, 6, 7}\n",
      "{3, 4, 5}\n",
      "{1, 2}\n"
     ]
    }
   ],
   "source": [
    "a = set([1, 2, 3, 4 ,5])\n",
    "b = set([3, 4, 5, 6, 7])\n",
    "\n",
    "print(a | b) # 합집합\n",
    "print(a & b) # 교집합\n",
    "print(a - b) # 차집합"
   ]
  },
  {
   "cell_type": "markdown",
   "id": "trying-affair",
   "metadata": {},
   "source": [
    "## 06-3) 집합 자료형 관련 함수 <a class=\"anchor\" id=\"06_3\"></a>"
   ]
  },
  {
   "cell_type": "markdown",
   "id": "constitutional-better",
   "metadata": {},
   "source": [
    "- add() 함수 O(1) : 하나의 집합 데이터에 값을 추가 할 떄\n",
    "- update() 함수 : 여러 개의 값을 한꺼번에 추가하고자 할 때\n",
    "- remove() 함수 O(1) : 특정한 값을 제거할 때"
   ]
  },
  {
   "cell_type": "code",
   "execution_count": 36,
   "id": "intellectual-hearing",
   "metadata": {},
   "outputs": [
    {
     "name": "stdout",
     "output_type": "stream",
     "text": [
      "{1, 2, 3}\n",
      "{1, 2, 3, 4}\n",
      "{1, 2, 3, 4, 5, 6}\n",
      "{1, 2, 4, 5, 6}\n"
     ]
    }
   ],
   "source": [
    "data = set([1, 2, 3])\n",
    "print(data)\n",
    "\n",
    "# 새로운 원소 추가\n",
    "data.add(4)\n",
    "print(data)\n",
    "\n",
    "# 새로운 원소 여러 개 추가\n",
    "data.update([5, 6])\n",
    "print(data)\n",
    "\n",
    "# 특정한 값을 갖는 원소 삭제\n",
    "data.remove(3)\n",
    "print(data)"
   ]
  },
  {
   "cell_type": "code",
   "execution_count": null,
   "id": "dressed-trigger",
   "metadata": {},
   "outputs": [],
   "source": []
  }
 ],
 "metadata": {
  "kernelspec": {
   "display_name": "Python 3",
   "language": "python",
   "name": "python3"
  },
  "language_info": {
   "codemirror_mode": {
    "name": "ipython",
    "version": 3
   },
   "file_extension": ".py",
   "mimetype": "text/x-python",
   "name": "python",
   "nbconvert_exporter": "python",
   "pygments_lexer": "ipython3",
   "version": "3.8.8"
  }
 },
 "nbformat": 4,
 "nbformat_minor": 5
}
