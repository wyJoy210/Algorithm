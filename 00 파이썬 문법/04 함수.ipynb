{
 "cells": [
  {
   "cell_type": "markdown",
   "id": "welcome-productivity",
   "metadata": {},
   "source": [
    "def 함수명(매개변수):<br/>\n",
    "&nbsp;&nbsp;&nbsp;&nbsp;실행할 소스코드<br/>\n",
    "&nbsp;&nbsp;&nbsp;&nbsp;return 반환 값"
   ]
  },
  {
   "cell_type": "code",
   "execution_count": 1,
   "id": "addressed-therapist",
   "metadata": {},
   "outputs": [
    {
     "name": "stdout",
     "output_type": "stream",
     "text": [
      "10\n"
     ]
    }
   ],
   "source": [
    "def add(a, b):\n",
    "    return a + b\n",
    "\n",
    "print(add(3, 7))"
   ]
  },
  {
   "cell_type": "code",
   "execution_count": 3,
   "id": "assured-rebound",
   "metadata": {},
   "outputs": [
    {
     "name": "stdout",
     "output_type": "stream",
     "text": [
      "함수의 결과: 10\n"
     ]
    }
   ],
   "source": [
    "def add(a, b):\n",
    "    print(\"함수의 결과:\", a+b)\n",
    "\n",
    "add(3, 7)"
   ]
  },
  {
   "cell_type": "code",
   "execution_count": 4,
   "id": "opposed-guatemala",
   "metadata": {},
   "outputs": [
    {
     "name": "stdout",
     "output_type": "stream",
     "text": [
      "함수의 결과: 10\n"
     ]
    }
   ],
   "source": [
    "def add(a, b):\n",
    "    print(\"함수의 결과:\", a + b)\n",
    "\n",
    "add(b=3, a=7)"
   ]
  },
  {
   "cell_type": "markdown",
   "id": "quality-wesley",
   "metadata": {},
   "source": [
    "**global** 키워드로 변수를 지정하면, 해당 함수에서는 지역 변수를 만들지 않고, 함수 바깥에 선언된 변수를 바로 참조하게 된다."
   ]
  },
  {
   "cell_type": "code",
   "execution_count": 5,
   "id": "amazing-algeria",
   "metadata": {},
   "outputs": [
    {
     "name": "stdout",
     "output_type": "stream",
     "text": [
      "10\n"
     ]
    }
   ],
   "source": [
    "a = 0\n",
    "\n",
    "def func():\n",
    "    global a\n",
    "    a += 1\n",
    "    \n",
    "for i in range(10):\n",
    "    func()\n",
    "\n",
    "print(a)"
   ]
  },
  {
   "cell_type": "markdown",
   "id": "novel-rapid",
   "metadata": {},
   "source": [
    "#### 람다 표현식"
   ]
  },
  {
   "cell_type": "code",
   "execution_count": 6,
   "id": "secure-cambridge",
   "metadata": {},
   "outputs": [
    {
     "name": "stdout",
     "output_type": "stream",
     "text": [
      "10\n",
      "10\n"
     ]
    }
   ],
   "source": [
    "def add(a, b):\n",
    "    return a + b\n",
    "\n",
    "# 일반적인 add() 메서드 사용\n",
    "print(add(3, 7))\n",
    "\n",
    "# 람다 표현식으로 구현한 add() 메서드\n",
    "print((lambda a, b: a + b)(3, 7))"
   ]
  },
  {
   "cell_type": "code",
   "execution_count": null,
   "id": "excess-exposure",
   "metadata": {},
   "outputs": [],
   "source": []
  }
 ],
 "metadata": {
  "kernelspec": {
   "display_name": "Python 3",
   "language": "python",
   "name": "python3"
  },
  "language_info": {
   "codemirror_mode": {
    "name": "ipython",
    "version": 3
   },
   "file_extension": ".py",
   "mimetype": "text/x-python",
   "name": "python",
   "nbconvert_exporter": "python",
   "pygments_lexer": "ipython3",
   "version": "3.8.8"
  }
 },
 "nbformat": 4,
 "nbformat_minor": 5
}
