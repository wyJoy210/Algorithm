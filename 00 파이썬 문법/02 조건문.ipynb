{
 "cells": [
  {
   "cell_type": "code",
   "execution_count": 1,
   "id": "paperback-payroll",
   "metadata": {},
   "outputs": [
    {
     "name": "stdout",
     "output_type": "stream",
     "text": [
      "15\n"
     ]
    }
   ],
   "source": [
    "x = 15\n",
    "\n",
    "if x >= 10:\n",
    "    print(x)"
   ]
  },
  {
   "cell_type": "code",
   "execution_count": 2,
   "id": "sound-conditions",
   "metadata": {},
   "outputs": [
    {
     "name": "stdout",
     "output_type": "stream",
     "text": [
      "학점: B\n"
     ]
    }
   ],
   "source": [
    "score = 85\n",
    "\n",
    "if score >= 90:\n",
    "    print(\"학점: A\")\n",
    "elif score >= 80:\n",
    "    print(\"학점: B\")\n",
    "elif score >= 70:\n",
    "    print(\"학점: C\")\n",
    "else:\n",
    "    print(\"학점: F\")"
   ]
  },
  {
   "cell_type": "code",
   "execution_count": 3,
   "id": "going-toddler",
   "metadata": {},
   "outputs": [
    {
     "name": "stdout",
     "output_type": "stream",
     "text": [
      "성적이 70점 이상입니다.\n",
      "프로그램을 종료합니다.\n"
     ]
    }
   ],
   "source": [
    "score = 85\n",
    "\n",
    "if score >= 70:\n",
    "    print(\"성적이 70점 이상입니다.\")\n",
    "    if score >= 90:\n",
    "        print(\"우수한 성적입니다.\")\n",
    "else:\n",
    "    print(\"성적이 70점 미만입니다.\")\n",
    "    print(\"조금 더 분발하세요.\")\n",
    "\n",
    "print(\"프로그램을 종료합니다.\") # 조건문과 상관없이 무조건 실행되는 부분"
   ]
  },
  {
   "cell_type": "markdown",
   "id": "circular-judgment",
   "metadata": {},
   "source": [
    "## 비교 연산자"
   ]
  },
  {
   "cell_type": "markdown",
   "id": "supported-newark",
   "metadata": {},
   "source": [
    "|비교 연산자|설명|\n",
    "|---|---|\n",
    "|X==Y|X와 Y가 서로 같은 때 참(True)이다.|\n",
    "|X!=Y|X와 Y가 서로 다를 때 참(True)이다.|\n",
    "|X>Y|X와 Y가 클 때 참(True)이다.|\n",
    "|X<Y|X와 Y가 작을 때 참(True)이다.|\n",
    "|X>=Y|X와 Y가 크거나 같을 때 참(True)이다.|\n",
    "|X<=Y|X와 Y가 작거나 같을 때 참(True)이다.|"
   ]
  },
  {
   "cell_type": "markdown",
   "id": "flush-collective",
   "metadata": {},
   "source": [
    "## 논리 연산자"
   ]
  },
  {
   "cell_type": "markdown",
   "id": "democratic-storage",
   "metadata": {},
   "source": [
    "|논리 연산자|설명|\n",
    "|---|---|\n",
    "|X and Y|X와 Y가 모두 참(True)일 때 참(True)이다.|\n",
    "|X or Y|X와 Y 중에 하나만 참(True)이어도 참(True)이다.|\n",
    "|not X|X가 거짓(False)일 때 참(True)이다.|"
   ]
  },
  {
   "cell_type": "markdown",
   "id": "reserved-basketball",
   "metadata": {},
   "source": [
    "## 파이썬의 기타 연산자"
   ]
  },
  {
   "cell_type": "markdown",
   "id": "worthy-tulsa",
   "metadata": {},
   "source": [
    "|in 연산자와 not in 연산자|설명|\n",
    "|---|---|\n",
    "|X in 리스트|리스트 안에 X가 들어가 있을 때 참(True)이다.|\n",
    "|X not in 문자열|문자열 안에 X가 들어가 있지 않을 때 참(True)이다.|"
   ]
  },
  {
   "cell_type": "markdown",
   "id": "duplicate-outside",
   "metadata": {},
   "source": [
    "## 또 다른 예시들"
   ]
  },
  {
   "cell_type": "markdown",
   "id": "linear-invite",
   "metadata": {},
   "source": [
    "#### pass문을 이용하여 아무것도 처리하고 싶지 않을 때 처리할 수 있음"
   ]
  },
  {
   "cell_type": "code",
   "execution_count": 4,
   "id": "attended-magnet",
   "metadata": {},
   "outputs": [
    {
     "name": "stdout",
     "output_type": "stream",
     "text": [
      "프로그램을 종료합니다.\n"
     ]
    }
   ],
   "source": [
    "score = 85\n",
    "\n",
    "if score >= 80:\n",
    "    pass # 나중에 작성할 소스 코드\n",
    "else:\n",
    "    print(\"성적이 80점 미만입니다.\")\n",
    "    \n",
    "print(\"프로그램을 종료합니다.\")"
   ]
  },
  {
   "cell_type": "markdown",
   "id": "coastal-chair",
   "metadata": {},
   "source": [
    "#### 조건무에서 실행될 소스코드가 한 줄인 경우 줄 바꿈하지 않아도 됨"
   ]
  },
  {
   "cell_type": "code",
   "execution_count": 6,
   "id": "fuzzy-participation",
   "metadata": {},
   "outputs": [
    {
     "name": "stdout",
     "output_type": "stream",
     "text": [
      "Success\n"
     ]
    }
   ],
   "source": [
    "score = 85\n",
    "\n",
    "if score >= 80: result = \"Success\"\n",
    "else: result = \"Fail\"\n",
    "    \n",
    "print(result)"
   ]
  },
  {
   "cell_type": "markdown",
   "id": "occasional-switch",
   "metadata": {},
   "source": [
    "#### 조건부 표현식"
   ]
  },
  {
   "cell_type": "code",
   "execution_count": 7,
   "id": "parental-romance",
   "metadata": {},
   "outputs": [
    {
     "name": "stdout",
     "output_type": "stream",
     "text": [
      "Success\n"
     ]
    }
   ],
   "source": [
    "score = 85\n",
    "result = \"Success\" if score >= 80 else \"Fail\"\n",
    "\n",
    "print(result)"
   ]
  },
  {
   "cell_type": "markdown",
   "id": "italic-minister",
   "metadata": {},
   "source": [
    "#### 조건부 표현식을 이용해 리스트에서 특정한 원소의 값만을 없애보기"
   ]
  },
  {
   "cell_type": "code",
   "execution_count": 8,
   "id": "existing-fashion",
   "metadata": {},
   "outputs": [
    {
     "name": "stdout",
     "output_type": "stream",
     "text": [
      "[1, 2, 4]\n"
     ]
    }
   ],
   "source": [
    "a = [1, 2, 3, 4, 5, 5, 5]\n",
    "remove_set = {3, 5}\n",
    "\n",
    "result = []\n",
    "for i in a:\n",
    "    if i not in remove_set:\n",
    "        result.append(i)\n",
    "        \n",
    "print(result)"
   ]
  },
  {
   "cell_type": "code",
   "execution_count": 9,
   "id": "otherwise-squad",
   "metadata": {},
   "outputs": [
    {
     "name": "stdout",
     "output_type": "stream",
     "text": [
      "[1, 2, 4]\n"
     ]
    }
   ],
   "source": [
    "a = [1, 2, 3, 4, 5, 5, 5]\n",
    "remove_set = {3, 5}\n",
    "\n",
    "result = [i for i in a if i not in remove_set]\n",
    "\n",
    "print(result)"
   ]
  },
  {
   "cell_type": "code",
   "execution_count": null,
   "id": "endless-latino",
   "metadata": {},
   "outputs": [],
   "source": []
  }
 ],
 "metadata": {
  "kernelspec": {
   "display_name": "Python 3",
   "language": "python",
   "name": "python3"
  },
  "language_info": {
   "codemirror_mode": {
    "name": "ipython",
    "version": 3
   },
   "file_extension": ".py",
   "mimetype": "text/x-python",
   "name": "python",
   "nbconvert_exporter": "python",
   "pygments_lexer": "ipython3",
   "version": "3.8.8"
  }
 },
 "nbformat": 4,
 "nbformat_minor": 5
}
