{
 "cells": [
  {
   "cell_type": "markdown",
   "id": "passing-syndication",
   "metadata": {},
   "source": [
    "#### 입력을 위한 전형적인 소스코드"
   ]
  },
  {
   "cell_type": "code",
   "execution_count": 1,
   "id": "frank-lawrence",
   "metadata": {},
   "outputs": [
    {
     "name": "stdout",
     "output_type": "stream",
     "text": [
      "5\n",
      "11 12 13 15 56\n",
      "[56, 15, 13, 12, 11]\n"
     ]
    }
   ],
   "source": [
    "# 데이터의 개수 입력\n",
    "n = int(input())\n",
    "\n",
    "# 각 데이터 공백으로 구분하여 입력\n",
    "data = list(map(int, input().split()))\n",
    "\n",
    "data.sort(reverse = True)\n",
    "print(data)"
   ]
  },
  {
   "cell_type": "markdown",
   "id": "thirty-mystery",
   "metadata": {},
   "source": [
    "#### 공백을 기준으로 구분하여 적은 수의 데이터 입력"
   ]
  },
  {
   "cell_type": "code",
   "execution_count": 2,
   "id": "unlimited-chess",
   "metadata": {},
   "outputs": [
    {
     "name": "stdout",
     "output_type": "stream",
     "text": [
      "2 44 6\n",
      "2 44 6\n"
     ]
    }
   ],
   "source": [
    "# n, m, k를 공백으로 구분하여 입력\n",
    "n, m, k = map(int, input().split())\n",
    "\n",
    "print(n, m, k)"
   ]
  },
  {
   "cell_type": "markdown",
   "id": "available-component",
   "metadata": {},
   "source": [
    "#### readline() 사용 소스코드 예시"
   ]
  },
  {
   "cell_type": "markdown",
   "id": "animal-investment",
   "metadata": {},
   "source": [
    "파이썬의 기본 input() 함수는 동작 속도가 느려서 입력의 개수가 많은 경우에는 시간 초과로 오답 판정을 받을 수 있다. <br/>\n",
    "이 경우 파이썬의 sys 라이브러리에 정의되어 있는 **sys.stdin.readline()** 함수를 이용한다.<br/>\n",
    "<br/>\n",
    "sys 라이브러리는 다음과 같은 방식으로 사용하며 input() 함수와 같이 한 줄씩 입력받기 위해 사용한다.<br/>\n",
    "sys 라이브러리를 사용할 때는 한 줄 입력을 받고 나서 **rstrip() 함수를 꼭 호출해야 한다.** <br/>\n",
    "readline()으로 입력하면 입력 후 엔터가 줄 바꿈 기호로 입력되는데 이 공백 문자를 제거하기 위한 것임"
   ]
  },
  {
   "cell_type": "code",
   "execution_count": 6,
   "id": "driving-person",
   "metadata": {},
   "outputs": [
    {
     "name": "stdout",
     "output_type": "stream",
     "text": [
      "\n"
     ]
    }
   ],
   "source": [
    "import sys\n",
    "\n",
    "data = sys.stdin.readline().rstrip() # but, jupyter notebook에서는 stdin이 제대로 구현되어 있지 않음 pass\n",
    "print(data)"
   ]
  },
  {
   "cell_type": "markdown",
   "id": "spiritual-findings",
   "metadata": {},
   "source": [
    "#### 변수 출력 예시"
   ]
  },
  {
   "cell_type": "code",
   "execution_count": 7,
   "id": "collected-recognition",
   "metadata": {},
   "outputs": [
    {
     "name": "stdout",
     "output_type": "stream",
     "text": [
      "1 2\n"
     ]
    }
   ],
   "source": [
    "a = 1\n",
    "b = 2\n",
    "\n",
    "print(a, b)"
   ]
  },
  {
   "cell_type": "markdown",
   "id": "delayed-express",
   "metadata": {},
   "source": [
    "#### 출력 줄 바꿈 예시"
   ]
  },
  {
   "cell_type": "code",
   "execution_count": 8,
   "id": "juvenile-antigua",
   "metadata": {},
   "outputs": [
    {
     "name": "stdout",
     "output_type": "stream",
     "text": [
      "1\n",
      "2\n"
     ]
    }
   ],
   "source": [
    "a = 1\n",
    "b = 2\n",
    "\n",
    "print(a)\n",
    "print(b)"
   ]
  },
  {
   "cell_type": "markdown",
   "id": "legal-harvey",
   "metadata": {},
   "source": [
    "#### 출력 시 오류가 발생하는 소스코드 예시"
   ]
  },
  {
   "cell_type": "code",
   "execution_count": 9,
   "id": "robust-simple",
   "metadata": {},
   "outputs": [
    {
     "ename": "TypeError",
     "evalue": "can only concatenate str (not \"int\") to str",
     "output_type": "error",
     "traceback": [
      "\u001b[1;31m---------------------------------------------------------------------------\u001b[0m",
      "\u001b[1;31mTypeError\u001b[0m                                 Traceback (most recent call last)",
      "\u001b[1;32m<ipython-input-9-20caeafb018b>\u001b[0m in \u001b[0;36m<module>\u001b[1;34m\u001b[0m\n\u001b[0;32m      1\u001b[0m \u001b[0manswer\u001b[0m \u001b[1;33m=\u001b[0m \u001b[1;36m7\u001b[0m\u001b[1;33m\u001b[0m\u001b[1;33m\u001b[0m\u001b[0m\n\u001b[0;32m      2\u001b[0m \u001b[1;33m\u001b[0m\u001b[0m\n\u001b[1;32m----> 3\u001b[1;33m \u001b[0mprint\u001b[0m\u001b[1;33m(\u001b[0m\u001b[1;34m\"정답은 \"\u001b[0m \u001b[1;33m+\u001b[0m \u001b[0manswer\u001b[0m \u001b[1;33m+\u001b[0m \u001b[1;34m\"입니다.\"\u001b[0m\u001b[1;33m)\u001b[0m\u001b[1;33m\u001b[0m\u001b[1;33m\u001b[0m\u001b[0m\n\u001b[0m",
      "\u001b[1;31mTypeError\u001b[0m: can only concatenate str (not \"int\") to str"
     ]
    }
   ],
   "source": [
    "answer = 7\n",
    "\n",
    "print(\"정답은 \" + answer + \"입니다.\")"
   ]
  },
  {
   "cell_type": "markdown",
   "id": "perfect-morrison",
   "metadata": {},
   "source": [
    "#### 변수를 문자열로 바꾸어 출력하는 소스코드 예시"
   ]
  },
  {
   "cell_type": "code",
   "execution_count": 10,
   "id": "talented-kenya",
   "metadata": {},
   "outputs": [
    {
     "name": "stdout",
     "output_type": "stream",
     "text": [
      "정답은 7입니다.\n"
     ]
    }
   ],
   "source": [
    "answer = 7\n",
    "\n",
    "print(\"정답은 \" + str(answer) + \"입니다.\")"
   ]
  },
  {
   "cell_type": "markdown",
   "id": "weird-committee",
   "metadata": {},
   "source": [
    "#### 각 변수를 콤마(,)로 구분하여 출력하는 소스코드 예시"
   ]
  },
  {
   "cell_type": "code",
   "execution_count": 11,
   "id": "interesting-conviction",
   "metadata": {},
   "outputs": [
    {
     "name": "stdout",
     "output_type": "stream",
     "text": [
      "정답은  7 입니다.\n"
     ]
    }
   ],
   "source": [
    "answer = 7\n",
    "\n",
    "print(\"정답은 \", str(answer), \"입니다.\")"
   ]
  },
  {
   "cell_type": "markdown",
   "id": "trying-brooks",
   "metadata": {},
   "source": [
    "#### f-string"
   ]
  },
  {
   "cell_type": "code",
   "execution_count": 14,
   "id": "returning-academy",
   "metadata": {},
   "outputs": [
    {
     "name": "stdout",
     "output_type": "stream",
     "text": [
      "정답은 7입니다.\n"
     ]
    }
   ],
   "source": [
    "answer = 7\n",
    "\n",
    "print(f\"정답은 {answer}입니다.\")"
   ]
  },
  {
   "cell_type": "code",
   "execution_count": null,
   "id": "seeing-commonwealth",
   "metadata": {},
   "outputs": [],
   "source": []
  }
 ],
 "metadata": {
  "kernelspec": {
   "display_name": "Python 3",
   "language": "python",
   "name": "python3"
  },
  "language_info": {
   "codemirror_mode": {
    "name": "ipython",
    "version": 3
   },
   "file_extension": ".py",
   "mimetype": "text/x-python",
   "name": "python",
   "nbconvert_exporter": "python",
   "pygments_lexer": "ipython3",
   "version": "3.8.8"
  }
 },
 "nbformat": 4,
 "nbformat_minor": 5
}
