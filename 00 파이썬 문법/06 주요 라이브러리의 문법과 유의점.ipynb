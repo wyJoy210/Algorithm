{
 "cells": [
  {
   "cell_type": "markdown",
   "id": "temporal-dispatch",
   "metadata": {},
   "source": [
    "[파이썬 표준 라이브러리 공식 문서](https:///docs.python.org/ko/3/library/index.html)"
   ]
  },
  {
   "cell_type": "markdown",
   "id": "equal-destiny",
   "metadata": {},
   "source": [
    "- **내장 함수 :** print(), input()과 같은 기본 입출력 기능부터 sorted()와 같은 정렬 기능을 포함하고 있는 기본 내장 라이브러리이다. 파이썬 프로그램을 작성할 때 없어서는 안되는 필수적인 기능을 포함하고 있다.\n",
    "\n",
    "\n",
    "- **itertools :** 파이썬에서 반복되는 형태의 데이터를 처리하는 기능을 제공하는 라이브러리이다. 순열과 조합 라이브러리를 제공한다.\n",
    "\n",
    "\n",
    "- **heapq :** 힙(Heap) 기능을 제공하는 라이브러리이다. 우선순위 큐 기능을 구현하기 위해 사용한다.\n",
    "\n",
    "\n",
    "- **bisect :** 이진 탐색(Binary Search) 기능을 제공하는 라이브러리이다.\n",
    "\n",
    "\n",
    "- **colledctions :** 덱(deque), 카운터(Counter) 등의 유용한 자료구조를 포함하고 있는 라이브러리이다.\n",
    "\n",
    "\n",
    "- **math :** 필수적인 수학적 기능을 제공하는 라이브러리이다. 팩토리얼, 제곱근, 최대공약수(GCD), 삼각함수 관련 함수부터 파이(pi)와 같은 상수를 포함하고 있다."
   ]
  },
  {
   "cell_type": "markdown",
   "id": "prompt-gardening",
   "metadata": {},
   "source": [
    "<br/>\n",
    "<hr/>\n",
    "<br/>"
   ]
  },
  {
   "cell_type": "markdown",
   "id": "desperate-announcement",
   "metadata": {},
   "source": [
    "# 내장 함수"
   ]
  },
  {
   "cell_type": "markdown",
   "id": "warming-edward",
   "metadata": {},
   "source": [
    "### sum() 함수"
   ]
  },
  {
   "cell_type": "markdown",
   "id": "decreased-moore",
   "metadata": {},
   "source": [
    "sum() 함수는 **iterable 객체**(리스트, 딕셔너리, 튜플)가 입력으로 주어졌을 때, **모든 원소의 합을 반환**한다."
   ]
  },
  {
   "cell_type": "code",
   "execution_count": 1,
   "id": "potential-light",
   "metadata": {},
   "outputs": [
    {
     "name": "stdout",
     "output_type": "stream",
     "text": [
      "15\n"
     ]
    }
   ],
   "source": [
    "result = sum([1 ,2 ,3, 4, 5])\n",
    "print(result)"
   ]
  },
  {
   "cell_type": "markdown",
   "id": "quiet-infection",
   "metadata": {},
   "source": [
    "### min() 함수"
   ]
  },
  {
   "cell_type": "markdown",
   "id": "animal-consumer",
   "metadata": {},
   "source": [
    "min() 함수는 **파라미터가 2개 이상** 들어왔을 때 가장 작은 값을 반환한다."
   ]
  },
  {
   "cell_type": "code",
   "execution_count": 2,
   "id": "infectious-entity",
   "metadata": {},
   "outputs": [
    {
     "name": "stdout",
     "output_type": "stream",
     "text": [
      "2\n"
     ]
    }
   ],
   "source": [
    "result = min(7, 3, 5, 2)\n",
    "print(result)"
   ]
  },
  {
   "cell_type": "markdown",
   "id": "known-tuning",
   "metadata": {},
   "source": [
    "### max() 함수"
   ]
  },
  {
   "cell_type": "markdown",
   "id": "automated-reservoir",
   "metadata": {},
   "source": [
    "max() 함수는 **파라미터가 2개 이상** 들어왔을 때 가장 큰 값을 반환한다."
   ]
  },
  {
   "cell_type": "code",
   "execution_count": 3,
   "id": "capital-tyler",
   "metadata": {},
   "outputs": [
    {
     "name": "stdout",
     "output_type": "stream",
     "text": [
      "7\n"
     ]
    }
   ],
   "source": [
    "result = max(7, 3, 5, 2)\n",
    "print(result)"
   ]
  },
  {
   "cell_type": "markdown",
   "id": "characteristic-designation",
   "metadata": {},
   "source": [
    "### eval() 함수"
   ]
  },
  {
   "cell_type": "markdown",
   "id": "sound-times",
   "metadata": {},
   "source": [
    "eval() 함수는 수학 수식이 문자열 형식으로 들어오면 해당 수식을 계산한 결과를 반환한다."
   ]
  },
  {
   "cell_type": "code",
   "execution_count": 4,
   "id": "expanded-conclusion",
   "metadata": {},
   "outputs": [
    {
     "name": "stdout",
     "output_type": "stream",
     "text": [
      "56\n"
     ]
    }
   ],
   "source": [
    "result = eval(\"(3+5) * 7\")\n",
    "print(result)"
   ]
  },
  {
   "cell_type": "markdown",
   "id": "horizontal-characteristic",
   "metadata": {},
   "source": [
    "### sorted() 함수"
   ]
  },
  {
   "cell_type": "markdown",
   "id": "charged-cream",
   "metadata": {},
   "source": [
    "sorted() 함수는 iterable 객체가 들어왔을 때, 정렬된 결과를 반환한다.<br/>\n",
    "**key 속성 :** 정렬 기준을 명시할 수 있음.<br/>\n",
    "**reverse 속성 :** 정렬된 결과 리스트를 뒤집을지의 여부를 설정할 수 있음"
   ]
  },
  {
   "cell_type": "code",
   "execution_count": 7,
   "id": "spread-spider",
   "metadata": {},
   "outputs": [
    {
     "name": "stdout",
     "output_type": "stream",
     "text": [
      "[1, 4, 5, 8, 9]\n",
      "[9, 8, 5, 4, 1]\n"
     ]
    }
   ],
   "source": [
    "result = sorted([9, 1, 8, 5, 4]) # 오름차순으로 정렬\n",
    "print(result)\n",
    "\n",
    "result = sorted([9, 1, 8, 5, 4], reverse = True) # 내림차순으로 정렬\n",
    "print(result)"
   ]
  },
  {
   "cell_type": "code",
   "execution_count": 8,
   "id": "amber-health",
   "metadata": {},
   "outputs": [
    {
     "name": "stdout",
     "output_type": "stream",
     "text": [
      "[('이순신', 75), ('아무개', 50), ('홍길동', 35)]\n"
     ]
    }
   ],
   "source": [
    "result = sorted([('홍길동', 35), ('이순신', 75), ('아무개', 50)], key = lambda x: x[1], reverse=True)\n",
    "print(result)"
   ]
  },
  {
   "cell_type": "code",
   "execution_count": 10,
   "id": "sticky-fireplace",
   "metadata": {},
   "outputs": [
    {
     "name": "stdout",
     "output_type": "stream",
     "text": [
      "[1, 4, 5, 8, 9]\n"
     ]
    }
   ],
   "source": [
    "data = [9, 1, 8, 5, 4]\n",
    "data.sort()\n",
    "print(data)"
   ]
  },
  {
   "cell_type": "markdown",
   "id": "lesbian-tablet",
   "metadata": {},
   "source": [
    "<br/>\n",
    "<hr/>\n",
    "<br/>"
   ]
  },
  {
   "cell_type": "markdown",
   "id": "regulated-mills",
   "metadata": {},
   "source": [
    "# itertools"
   ]
  },
  {
   "cell_type": "markdown",
   "id": "incredible-favorite",
   "metadata": {},
   "source": [
    "### permutations"
   ]
  },
  {
   "cell_type": "markdown",
   "id": "tired-disability",
   "metadata": {},
   "source": [
    "- permutations는 iterable 객체에서 r개의 데이터를 뽑아 **일렬로 나열**하는 모든 경우(순열) 을 계산해준다. <br/>\n",
    "- permutations는 클래스이므로 객체 초기화 이후에는 리스트 자료형으로 변환하여 사용한다."
   ]
  },
  {
   "cell_type": "code",
   "execution_count": 12,
   "id": "competent-reflection",
   "metadata": {},
   "outputs": [
    {
     "name": "stdout",
     "output_type": "stream",
     "text": [
      "[('A', 'B', 'C'), ('A', 'C', 'B'), ('B', 'A', 'C'), ('B', 'C', 'A'), ('C', 'A', 'B'), ('C', 'B', 'A')]\n"
     ]
    }
   ],
   "source": [
    "from itertools import permutations\n",
    "\n",
    "data = ['A', 'B', 'C']\n",
    "result = list(permutations(data, 3)) # 모든 순열 구하기\n",
    "\n",
    "print(result)"
   ]
  },
  {
   "cell_type": "markdown",
   "id": "median-certificate",
   "metadata": {},
   "source": [
    "### combinations"
   ]
  },
  {
   "cell_type": "markdown",
   "id": "comparable-exemption",
   "metadata": {},
   "source": [
    "- combinations는 iterable 객체에서 r개의 데이터를 뽑아 **순서를 고려하지 않고 나열**하는 모든 경우(조합)를 계산한다.<br/>\n",
    "- combinations는 클래스이므로 객체 초기화 이후에는 리스트 자료형으로 변환하여 사용한다."
   ]
  },
  {
   "cell_type": "code",
   "execution_count": 14,
   "id": "individual-washer",
   "metadata": {},
   "outputs": [
    {
     "name": "stdout",
     "output_type": "stream",
     "text": [
      "[('A', 'B'), ('A', 'C'), ('B', 'C')]\n"
     ]
    }
   ],
   "source": [
    "from itertools import combinations\n",
    "\n",
    "data = ['A', 'B', 'C']\n",
    "result = list(combinations(data, 2))\n",
    "\n",
    "print(result)"
   ]
  },
  {
   "cell_type": "markdown",
   "id": "polar-municipality",
   "metadata": {},
   "source": [
    "### product"
   ]
  },
  {
   "cell_type": "markdown",
   "id": "destroyed-doubt",
   "metadata": {},
   "source": [
    "- product는 permutations와 같이 iterable 객체에서 r개의 데이터를 뽑아 **일렬로 나열하는** 모든 경우(순열)을 계산해준다. **다만 원소를 중복하여 뽑는다.**<br/>\n",
    "- product 객체를 초기화할 때는 뽑고자 하는 데이터의 수를 repeat 속성값으로 넣어준다. <br/>\n",
    "- product는 클래스이므로 객체 초기화 이후에 리스트 자료형으로 변환하여 사용한다."
   ]
  },
  {
   "cell_type": "code",
   "execution_count": 17,
   "id": "dependent-outdoors",
   "metadata": {},
   "outputs": [
    {
     "name": "stdout",
     "output_type": "stream",
     "text": [
      "[('A', 'A'), ('A', 'B'), ('A', 'C'), ('B', 'A'), ('B', 'B'), ('B', 'C'), ('C', 'A'), ('C', 'B'), ('C', 'C')]\n"
     ]
    }
   ],
   "source": [
    "from itertools import product\n",
    "\n",
    "data = ['A', 'B', 'C']\n",
    "result = list(product(data, repeat=2))\n",
    "\n",
    "print(result)"
   ]
  },
  {
   "cell_type": "markdown",
   "id": "disciplinary-assets",
   "metadata": {},
   "source": [
    "### combinations_with_replacement"
   ]
  },
  {
   "cell_type": "markdown",
   "id": "structural-pregnancy",
   "metadata": {},
   "source": [
    "- combinations_with_replacement는 combinations와 같이 iterable 객체에서 r개의 데이터를 뽑아 **순서를 고려하지 않고 나열**하는 모든 경우(조합)를 계산한다. **다만 원소를 중복해서 뽑는다.** <br/>\n",
    "- combinations_with_replacement는 클래스이므로 객체 초기화 이후에는 리스트 자료형으로 변환하여 사용해야 한다."
   ]
  },
  {
   "cell_type": "code",
   "execution_count": 16,
   "id": "cardiac-triple",
   "metadata": {},
   "outputs": [
    {
     "name": "stdout",
     "output_type": "stream",
     "text": [
      "[('A', 'A'), ('A', 'B'), ('A', 'C'), ('B', 'B'), ('B', 'C'), ('C', 'C')]\n"
     ]
    }
   ],
   "source": [
    "from itertools import combinations_with_replacement\n",
    "\n",
    "data = ['A', 'B', 'C']\n",
    "result = list(combinations_with_replacement(data, 2))\n",
    "print(result)"
   ]
  },
  {
   "cell_type": "markdown",
   "id": "differential-saturday",
   "metadata": {},
   "source": [
    "<br/>\n",
    "<hr/>\n",
    "<br/>"
   ]
  },
  {
   "cell_type": "markdown",
   "id": "ethical-enhancement",
   "metadata": {},
   "source": [
    "# heapq"
   ]
  },
  {
   "cell_type": "markdown",
   "id": "white-hypothesis",
   "metadata": {},
   "source": [
    "- 파이썬에서는 힙 기능을 위해 heapq 라이브러리를 제공한다. heqpq는 다익스트라 최단 경로 알고리즘과 같은 다양한 알고리즘에서 **우선순위 큐 기능**을 구현하고자 할 때 사용된다.<br/>"
   ]
  },
  {
   "cell_type": "markdown",
   "id": "utility-frost",
   "metadata": {},
   "source": [
    "#### 힙 정렬을 heapq로 구현하는 예제"
   ]
  },
  {
   "cell_type": "markdown",
   "id": "nearby-sculpture",
   "metadata": {},
   "source": [
    "파이썬의 힙은 최소 힙으로 구성되어 있으므로 **단순히 원소를 힙에 전부 넣었다가 빼는 것 만으로도 시간 복잡도 O(NlogN)에 오름차순 정렬이 완료**된다. 보통 최소 힙 자료구조의 최상단 원소는 항상 '가장 작은' 원소이기 때문이다."
   ]
  },
  {
   "cell_type": "code",
   "execution_count": 18,
   "id": "governmental-lloyd",
   "metadata": {},
   "outputs": [
    {
     "name": "stdout",
     "output_type": "stream",
     "text": [
      "[0, 1, 2, 3, 4, 5, 6, 7, 8, 9]\n"
     ]
    }
   ],
   "source": [
    "import heapq\n",
    "\n",
    "def heapsort(iterable):\n",
    "    h = []\n",
    "    result = []\n",
    "    \n",
    "    # 모든 원소를 차례대로 힙에 삽입\n",
    "    for value in iterable:\n",
    "        heapq.heappush(h, value)\n",
    "    \n",
    "    # 힙에 삽입된 모든 원소를 차례대로 꺼내어 담기\n",
    "    for i in range(len(h)):\n",
    "        result.append(heapq.heappop(h))\n",
    "    \n",
    "    return result\n",
    "\n",
    "result = heapsort([1, 3, 5, 7, 9, 2, 4, 6, 8, 0])\n",
    "print(result)"
   ]
  },
  {
   "cell_type": "markdown",
   "id": "alien-fever",
   "metadata": {},
   "source": [
    "#### 최대 힙을 구현하여 내림차순 힙 정렬을 구현하는 예제"
   ]
  },
  {
   "cell_type": "markdown",
   "id": "bridal-browser",
   "metadata": {},
   "source": [
    "파이썬에서는 최대 힙을 제공하지 않는다. 따라서 heapq 라이브러리를 이용하여 최대 힙을 구현해야 할 때는 원소의 부호를 임시로 변경하는 방식을 사용한다. 힙에 원소를 삽입하기 전에 잠시 부호를 반대로 바꾸었다가, 힙에서 원소를 꺼낸 뒤에 다시 원소의 부호를 바꾸면 된다."
   ]
  },
  {
   "cell_type": "code",
   "execution_count": 19,
   "id": "loaded-thirty",
   "metadata": {},
   "outputs": [
    {
     "name": "stdout",
     "output_type": "stream",
     "text": [
      "[9, 8, 7, 6, 5, 4, 3, 2, 1, 0]\n"
     ]
    }
   ],
   "source": [
    "import heapq\n",
    "\n",
    "def heapsort(iterable):\n",
    "    h = []\n",
    "    result = []\n",
    "    \n",
    "    # 모든 원소를 차레대로 힙에 삽입\n",
    "    for value in iterable:\n",
    "        heapq.heappush(h, -value)\n",
    "        \n",
    "    # 힙에 삽입된 모든 원소를 차레대로 꺼내어 담기\n",
    "    for i in range(len(h)):\n",
    "        result.append(-heapq.heappop(h))\n",
    "        \n",
    "    return result\n",
    "\n",
    "result = heapsort([1, 3, 5, 7, 9, 2, 4, 6, 8, 0])\n",
    "print(result)"
   ]
  },
  {
   "cell_type": "markdown",
   "id": "understanding-integer",
   "metadata": {},
   "source": [
    "<br/>\n",
    "<hr/>\n",
    "<br/>"
   ]
  },
  {
   "cell_type": "markdown",
   "id": "lasting-royal",
   "metadata": {},
   "source": [
    "# bisect"
   ]
  },
  {
   "cell_type": "markdown",
   "id": "global-stick",
   "metadata": {},
   "source": [
    "파이썬에서는 **이진 탐색**을 쉽게 구현할 수 있도록 bisect 라이브러리를 제공함.<br/>\n",
    "bisect 라이브러리는 **'정렬된 배열'에서 특정한 원소를 찾아야 할 때** 매우 효과적으로 사용된다.<br/>\n",
    "bisect 라이브러리에서는 bisect_left() 함수와 bisect_right() 함수가 가장 중요하게 사용되며, 이 두 함수는 시간 복잡도 O(logN)에 동작한다."
   ]
  },
  {
   "cell_type": "markdown",
   "id": "major-monroe",
   "metadata": {},
   "source": [
    "- **bisect_left(a, x) :** 정렬된 순서를 유지하면서 리스트 a에 데이터 x를 삽입할 가장 왼쪽 인덱스를 찾는 메서드\n",
    "- **bisect_right(a, x) :** 정렬된 순서를 유지하도록 리스트 a에 데이터 x를 삽입할 가장 오른쪽 인덱스를 찾는 메서드"
   ]
  },
  {
   "cell_type": "code",
   "execution_count": 20,
   "id": "middle-portable",
   "metadata": {},
   "outputs": [
    {
     "name": "stdout",
     "output_type": "stream",
     "text": [
      "2\n",
      "4\n"
     ]
    }
   ],
   "source": [
    "from bisect import bisect_left, bisect_right\n",
    "\n",
    "a = [1, 2, 4, 4, 8]\n",
    "x = 4\n",
    "\n",
    "print(bisect_left(a, x))\n",
    "print(bisect_right(a, x))"
   ]
  },
  {
   "cell_type": "markdown",
   "id": "golden-olive",
   "metadata": {},
   "source": [
    "bisect_left() 함수와 bisect_right() 함수는 **'정렬된 리스트'에서 '값이 특정 범위에 속하는 원소의 개수'를 구하고자 할 때**, 효과적으로 사용될 수 있다."
   ]
  },
  {
   "cell_type": "code",
   "execution_count": 21,
   "id": "documentary-midwest",
   "metadata": {},
   "outputs": [
    {
     "name": "stdout",
     "output_type": "stream",
     "text": [
      "2\n",
      "6\n"
     ]
    }
   ],
   "source": [
    "# 다음은 원소의 값을 x라 할 때, left_value <= x <= right_value인 원소의 개수를 O(logN)으로 빠르게 계산할 수 있다.\n",
    "\n",
    "from bisect import bisect_left, bisect_right\n",
    "\n",
    "# 값이 [left_value, right_value]인 데이터의 개수를 반환하는 함수\n",
    "def count_by_range(a, left_value, right_value):\n",
    "    right_index = bisect_right(a, right_value)\n",
    "    left_index = bisect_left(a, left_value)\n",
    "    \n",
    "    return right_index - left_index\n",
    "\n",
    "# 리스트 선언\n",
    "a = [1, 2, 3, 3, 3, 3, 4, 4, 8, 9]\n",
    "\n",
    "# 값이 4인 데이터 개수 출력\n",
    "print(count_by_range(a ,4, 4))\n",
    "\n",
    "# 값이 [-1, 3] 범위에 있는 데이터 개수 출력\n",
    "print(count_by_range(a, -1, 3))"
   ]
  },
  {
   "cell_type": "markdown",
   "id": "whole-marking",
   "metadata": {},
   "source": [
    "<br/>\n",
    "<hr/>\n",
    "<br/>"
   ]
  },
  {
   "cell_type": "markdown",
   "id": "brilliant-cambodia",
   "metadata": {},
   "source": [
    "# collections"
   ]
  },
  {
   "cell_type": "markdown",
   "id": "hydraulic-worker",
   "metadata": {},
   "source": [
    "## deque"
   ]
  },
  {
   "cell_type": "markdown",
   "id": "otherwise-dictionary",
   "metadata": {},
   "source": [
    "- 보통 파이썬에서는 deque를 사용해 큐를 구현한다. \n",
    "- 리스트는 append(), pop() 메서드를 사용할 때 '가장 뒤쪽 원소'를 기준으로 수행되므로 앞쪽에 있는 원소를 처리할 때에는 많은 시간이 소요될 수 있다.\n",
    "\n",
    "||리스트|deque|\n",
    "|---|---|---|\n",
    "가장 앞쪽에 원소 추가|O(N)|O(1)|\n",
    "가장 뒤쪽에 원소 추가|O(1)|O(1)|\n",
    "가장 앞쪽에 있는 원소 제거|O(N)|O(1)|\n",
    "가장 뒤쪽에 있는 원소 제거|O(1)|O(1)|\n",
    "\n",
    "- deque에서는 인덱싱, 슬라이싱 등의 기능을 사용할 수 없다.\n",
    "- 대신, 연속적으로 나열된 데이터의 시작 부분이나 끝 부분에 데이터를 삽입하거나 삭제할 때는 매우 효과적으로 사용될 수 있음"
   ]
  },
  {
   "cell_type": "markdown",
   "id": "collaborative-garlic",
   "metadata": {},
   "source": [
    "- **popleft() :** 첫 번째 원소를 제거할 때\n",
    "- **pop() :** 마지막 원소를 제거할 때\n",
    "- **appendleft(x) :** 첫 번째 인덱스에 원소 x를 삽입할 때\n",
    "- **append(x) :** 마지막 인덱스에 원소를 삽입할 때"
   ]
  },
  {
   "cell_type": "markdown",
   "id": "ignored-layer",
   "metadata": {},
   "source": [
    "- 원소를 삽입할 때 : append()\n",
    "- 원소를 삭제할 때 : popleft()"
   ]
  },
  {
   "cell_type": "markdown",
   "id": "suitable-reach",
   "metadata": {},
   "source": [
    "#### 리스트[2, 3, 4]의 가장 앞쪽과 뒤쪽에 원소를 삽입하는 예시"
   ]
  },
  {
   "cell_type": "code",
   "execution_count": 22,
   "id": "intellectual-affair",
   "metadata": {},
   "outputs": [
    {
     "name": "stdout",
     "output_type": "stream",
     "text": [
      "deque([1, 2, 3, 4, 5])\n",
      "[1, 2, 3, 4, 5]\n"
     ]
    }
   ],
   "source": [
    "from collections import deque\n",
    "\n",
    "data = deque([2, 3, 4])\n",
    "data.appendleft(1)\n",
    "data.append(5)\n",
    "\n",
    "print(data)\n",
    "print(list(data))"
   ]
  },
  {
   "cell_type": "markdown",
   "id": "local-korea",
   "metadata": {},
   "source": [
    "## Counter"
   ]
  },
  {
   "cell_type": "markdown",
   "id": "supposed-period",
   "metadata": {},
   "source": [
    "- 파이썬 collections 라이브러리의 **Counter는 등장 횟수를 세는 기능**을 제공한다.\n",
    "- iterable 객체가 주어졌을 때, 해당 객체 내부의 원소가 몇 번씩 등장했는지를 알려준다.\n",
    "- 원소별 등장 횟수를 세는 기능이 필요할 때 짧은 소스코드로 이를 구현할 수 있다."
   ]
  },
  {
   "cell_type": "code",
   "execution_count": 23,
   "id": "mexican-deviation",
   "metadata": {},
   "outputs": [
    {
     "name": "stdout",
     "output_type": "stream",
     "text": [
      "3\n",
      "1\n",
      "{'red': 2, 'blue': 3, 'green': 1}\n"
     ]
    }
   ],
   "source": [
    "from collections import Counter\n",
    "\n",
    "counter = Counter(['red', 'blue', 'red', 'green', 'blue', 'blue'])\n",
    "\n",
    "print(counter['blue'])\n",
    "print(counter['green'])\n",
    "print(dict(counter))"
   ]
  },
  {
   "cell_type": "markdown",
   "id": "prerequisite-mustang",
   "metadata": {},
   "source": [
    "<br/>\n",
    "<hr/>\n",
    "<br/>"
   ]
  },
  {
   "cell_type": "markdown",
   "id": "superior-booth",
   "metadata": {},
   "source": [
    "# math"
   ]
  },
  {
   "cell_type": "markdown",
   "id": "colored-patient",
   "metadata": {},
   "source": [
    "### factorial(x) 함수"
   ]
  },
  {
   "cell_type": "code",
   "execution_count": 24,
   "id": "indian-scope",
   "metadata": {},
   "outputs": [
    {
     "name": "stdout",
     "output_type": "stream",
     "text": [
      "120\n"
     ]
    }
   ],
   "source": [
    "import math\n",
    "\n",
    "print(math.factorial(5))"
   ]
  },
  {
   "cell_type": "markdown",
   "id": "commercial-ballot",
   "metadata": {},
   "source": [
    "### sqrt(x) 함수 - 제곱근 출력"
   ]
  },
  {
   "cell_type": "code",
   "execution_count": 25,
   "id": "congressional-walnut",
   "metadata": {},
   "outputs": [
    {
     "name": "stdout",
     "output_type": "stream",
     "text": [
      "2.6457513110645907\n"
     ]
    }
   ],
   "source": [
    "import math\n",
    "\n",
    "print(math.sqrt(7))"
   ]
  },
  {
   "cell_type": "markdown",
   "id": "falling-paint",
   "metadata": {},
   "source": [
    "### gcd(a, b) 함수 - 최대 공약수 반환"
   ]
  },
  {
   "cell_type": "code",
   "execution_count": 26,
   "id": "juvenile-substitute",
   "metadata": {},
   "outputs": [
    {
     "name": "stdout",
     "output_type": "stream",
     "text": [
      "7\n"
     ]
    }
   ],
   "source": [
    "import math\n",
    "\n",
    "print(math.gcd(21, 14))"
   ]
  },
  {
   "cell_type": "markdown",
   "id": "lined-chapter",
   "metadata": {},
   "source": [
    "### 파이(pi) 와 자연상수 e"
   ]
  },
  {
   "cell_type": "code",
   "execution_count": 27,
   "id": "single-discretion",
   "metadata": {},
   "outputs": [
    {
     "name": "stdout",
     "output_type": "stream",
     "text": [
      "3.141592653589793\n",
      "2.718281828459045\n"
     ]
    }
   ],
   "source": [
    "import math\n",
    "\n",
    "print(math.pi)\n",
    "print(math.e)"
   ]
  },
  {
   "cell_type": "code",
   "execution_count": null,
   "id": "skilled-darkness",
   "metadata": {},
   "outputs": [],
   "source": []
  }
 ],
 "metadata": {
  "kernelspec": {
   "display_name": "Python 3",
   "language": "python",
   "name": "python3"
  },
  "language_info": {
   "codemirror_mode": {
    "name": "ipython",
    "version": 3
   },
   "file_extension": ".py",
   "mimetype": "text/x-python",
   "name": "python",
   "nbconvert_exporter": "python",
   "pygments_lexer": "ipython3",
   "version": "3.8.8"
  }
 },
 "nbformat": 4,
 "nbformat_minor": 5
}
